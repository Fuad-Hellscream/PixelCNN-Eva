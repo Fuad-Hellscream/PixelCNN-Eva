{
 "cells": [
  {
   "cell_type": "code",
   "execution_count": 1,
   "metadata": {},
   "outputs": [
    {
     "name": "stderr",
     "output_type": "stream",
     "text": [
      "Using TensorFlow backend.\n"
     ]
    }
   ],
   "source": [
    "import math\n",
    "\n",
    "import numpy as np\n",
    "\n",
    "from keras import backend as K\n",
    "from keras.layers import Convolution2D"
   ]
  },
  {
   "cell_type": "code",
   "execution_count": null,
   "metadata": {},
   "outputs": [],
   "source": [
    "class MaskedConvolution2D(Convolution2D):\n",
    "    #*args pick up any number of non-keyword arguments\n",
    "    #*kwargs pick up any number of keyword arguments that are actually dictionaries\n",
    "    def __init__(self, *args, mask='B' , n_channels=3, mono=False, **kwargs):\n",
    "        super().__init__(*args, **kwargs)\n",
    "        self.mask_type = mask\n",
    "\n",
    "        self.mask = None\n",
    "        \n",
    "    def build(self, input_shape):\n",
    "        super().build(input_shape)\n",
    "\n",
    "        # Create a numpy array of ones in the shape of our convolution weights.\n",
    "        self.mask = np.ones(self.W_shape)\n",
    "\n",
    "        # We assert the height and width of our convolution to be equal as they should.\n",
    "        assert mask.shape[0] == mask.shape[1]\n",
    "\n",
    "        # Since the height and width are equal, we can use either to represent the size of our convolution.\n",
    "        filter_size = self.mask.shape[0]\n",
    "        filter_center = filter_size / 2\n",
    "\n",
    "        # Zero out all weights below the center.\n",
    "        self.mask[math.ceil(filter_center):] = 0\n",
    "\n",
    "        # Zero out all weights to the right of the center.\n",
    "        self.mask[math.floor(filter_center):, math.ceil(filter_center):] = 0\n",
    "\n",
    "        # If the mask type is 'A', zero out the center weigths too.\n",
    "        if self.mask_type == 'A':\n",
    "            self.mask[math.floor(filter_center), math.floor(filter_center)] = 0\n",
    "\n",
    "        # Convert the numpy mask into a tensor mask.\n",
    "        self.mask = K.variable(self.mask)\n",
    "    \n",
    "    def call(self, x, mask=None):\n",
    "        ''' I just copied the Keras Convolution2D call function so don't worry about all this code.\n",
    "            The only important piece is: self.W * self.mask.\n",
    "            Which multiplies the mask with the weights before calculating convolutions. '''\n",
    "        output = K.conv2d(x, self.W * self.mask, strides=self.subsample,\n",
    "                          border_mode=self.border_mode,\n",
    "                          dim_ordering=self.dim_ordering,\n",
    "                          filter_shape=self.W_shape)\n",
    "        if self.bias:\n",
    "            #Dimension ordering th means the channel dimension (the depth) is at index 1.\n",
    "            #nb_filter is the number of convolutional filters to use.\n",
    "            if self.dim_ordering == 'th':\n",
    "                output += K.reshape(self.b, (1, self.nb_filter, 1, 1))\n",
    "            #Dimension ordering th means the channel dimension (the depth) is at index 3.\n",
    "            elif self.dim_ordering == 'tf':\n",
    "                output += K.reshape(self.b, (1, 1, 1, self.nb_filter))\n",
    "            else:\n",
    "            #There are no other kind of dimension orderings so any other case would be invalid.\n",
    "                raise ValueError('Invalid dim_ordering:', self.dim_ordering)\n",
    "\n",
    "        output = self.activation(output)\n",
    "        return output\n",
    "\n",
    "    def get_config(self):\n",
    "        # Add the mask type property to the config.\n",
    "        return dict(list(super().get_config().items()) + list({'mask': self.mask_type}.items()))"
   ]
  }
 ],
 "metadata": {
  "kernelspec": {
   "display_name": "Python 3",
   "language": "python",
   "name": "python3"
  },
  "language_info": {
   "codemirror_mode": {
    "name": "ipython",
    "version": 3
   },
   "file_extension": ".py",
   "mimetype": "text/x-python",
   "name": "python",
   "nbconvert_exporter": "python",
   "pygments_lexer": "ipython3",
   "version": "3.7.7"
  }
 },
 "nbformat": 4,
 "nbformat_minor": 4
}
